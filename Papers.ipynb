{
 "cells": [
  {
   "cell_type": "markdown",
   "id": "49345cdd",
   "metadata": {},
   "source": [
    "# Clustering Algorithms: Their Application to Gene Expression Data\n",
    "https://www.ncbi.nlm.nih.gov/pmc/articles/PMC5135122/"
   ]
  },
  {
   "cell_type": "markdown",
   "id": "21635246",
   "metadata": {},
   "source": [
    "Applications:\n",
    "- Create clusters of gene expression data that are similar in expression and dissimilar to gene expression data in other clusters.\n",
    "\n",
    "Clustering is based on genes, samples, and/or time.\n",
    "- Genes display related expression across conditions.\n",
    "- Samples display related expression across all genes.\n",
    "- Gene-based clustering: genes are regarded as the objects and samples as the features.\n",
    "- Sample-based clustering: samples are regarded as the object and genes as the features.\n",
    "\n",
    "Type:\n",
    "- Partial clustering does not allocate every gene to a cluster. more suitable for gene expression due to the fact that gene expression data comprises irrelevant genes or samples. Genes could represent noises that allows its impact to be correspondingly less on the outcome. Aids in neglecting irrelevant contributions.\n",
    "- Complete clustering: allocates every gene to a cluster.\n",
    "- Hard clustering: assign each gene to a single cluster.\n",
    "- Overlapping clustering: assign degrees of membership in several clusters to each gene. Can be converted to hard clustering by assigning each gene to the cluster with the dominant degree of membership."
   ]
  },
  {
   "cell_type": "markdown",
   "id": "7f337e33",
   "metadata": {},
   "source": [
    "## Traditional Techniques\n",
    "**Hierarchical methods**\n",
    "- Agglomerative nesting (AGNES)\n",
    "    - Initially, each object is presumed to form a small cluster by itself. It then joins the two most similar objects, however, this cannot be undone.\n",
    "    - The use of different metrics may generate different results.\n",
    "- Divisive Analysis (DIANA)\n",
    "    - not appropriate as splitting of a cluster requires computing the diameter. Gene expr. doesn't follow that.\n",
    "- Clustering Using Representatives (CURE):\n",
    "    - Compromise between centroid-based and all-point extreme approaches.\n",
    "    - Nonspherical clusters\n",
    "    - Less sensitive to outliers.\n",
    "- CHAMELEON\n",
    "    - Outperforms CURE, ROCK, DBSCAN\n",
    "- BIRCH\n",
    "    - Ability to handle outliers, large datasets, and output not being affected by order of input data makes it good for gene expression data clustering.\n",
    "    - Efficiency of result is largely dependent on parameter settings\n",
    "    - Exhibits bias toward nonspherical clusters because it uses the concept of radius or diameter to control the boundary of clusters.\n",
    "    \n",
    "**Partitioning methods**\n",
    "- Intelligent Kernel K-means (IKKM)\n",
    "    - Good cancidate for gene expression clustering, as it overcomes most challenges.\n",
    "        - finds clusters itself\n",
    "    - Issue of high dimensionality\n",
    "    \n",
    "**Model-based methods**\n",
    "- Self-organizing maps (SOMs)\n",
    "    - on-par with Bayesian clustering, HC, K-means clustering).\n",
    "- Chinese restaurant clustering (CRC)\n",
    "\n",
    "**Density-based methods**\n",
    "- DENsity-based CLUstEring (DENCLUE)\n",
    "    - Good for gene expression clustering. Superior compared to DBSCAN.\n",
    "    \n",
    "## Recent techniques\n",
    "- Binary matrix factorization (BMF): \n",
    "    - Good for clustering.\n",
    "- Ensemble clustering\n",
    "- MST:\n",
    "    - does not rely on detailed geometrical shape of a cluster\n",
    "- Dual-rooted MST\n",
    "- M-CLUBS (Microarray data CLustering Using Binary Splitting)\n",
    "    - provides two goals of a clustering process: the efficiency attribute of a divisive technique and the accuracy attribute of agglomerative technique.\n",
    "- KnA\n",
    "- CAS-C is good\n",
    "- Hierarchical Dirichlet proces(HDP) "
   ]
  },
  {
   "cell_type": "markdown",
   "id": "7037f4e8",
   "metadata": {},
   "source": [
    "## Challenges and Issues\n",
    "See table 2.\n",
    "\n",
    "**Hierarchical clustering**:\n",
    "- Sensitive to noice.\n",
    "- Not receptive to missing data.\n",
    "- Difficult to prive information sch as the number of clusters required and individual cluster confidence measures.\n",
    "- Major limitation: as soon as two points are interconnected, they do not go to other group in a hierarchy or tree.\n",
    "\n",
    "HAC\n",
    "- structure of patterns is fixed to a binary tree\n",
    "- suffers from a lack of vigor when dealing with data containing noise.\n",
    "\n",
    "KMeans\n",
    "- Very sensitive to noise\n",
    "- Very sensitive to outliers"
   ]
  },
  {
   "cell_type": "code",
   "execution_count": null,
   "id": "0ceed18e",
   "metadata": {},
   "outputs": [],
   "source": []
  }
 ],
 "metadata": {
  "kernelspec": {
   "display_name": "Python 3 (ipykernel)",
   "language": "python",
   "name": "python3"
  },
  "language_info": {
   "codemirror_mode": {
    "name": "ipython",
    "version": 3
   },
   "file_extension": ".py",
   "mimetype": "text/x-python",
   "name": "python",
   "nbconvert_exporter": "python",
   "pygments_lexer": "ipython3",
   "version": "3.9.7"
  }
 },
 "nbformat": 4,
 "nbformat_minor": 5
}
