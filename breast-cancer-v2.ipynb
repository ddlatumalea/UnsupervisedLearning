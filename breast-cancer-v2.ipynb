{
 "cells": [
  {
   "cell_type": "markdown",
   "id": "1ca927eb",
   "metadata": {},
   "source": [
    "So, last notebook didn't go so well. There are several preprocessing steps that have to be taken into account. The SKlearn documentation <a href=\"https://scikit-learn.org/stable/modules/preprocessing.html\">here</a> provides an excellent example. **Most algorithms expect a Gaussian distribution, thus 0 mean and unit variance!**\n",
    "\n",
    "Thus, here are the steps to take for the preprocessing step:\n",
    "\n",
    "*after checking missing values and understanding columns...*\n",
    "\n",
    "1. Print the distributions of the columns. \n",
    "2. Transform the data using standardization/normalization/logtransform/etc.\n",
    "3. Print distributions again"
   ]
  },
  {
   "cell_type": "code",
   "execution_count": null,
   "id": "b0e1b006",
   "metadata": {},
   "outputs": [],
   "source": []
  }
 ],
 "metadata": {
  "kernelspec": {
   "display_name": "Python 3 (ipykernel)",
   "language": "python",
   "name": "python3"
  },
  "language_info": {
   "codemirror_mode": {
    "name": "ipython",
    "version": 3
   },
   "file_extension": ".py",
   "mimetype": "text/x-python",
   "name": "python",
   "nbconvert_exporter": "python",
   "pygments_lexer": "ipython3",
   "version": "3.9.7"
  }
 },
 "nbformat": 4,
 "nbformat_minor": 5
}
